{
 "cells": [
  {
   "cell_type": "code",
   "execution_count": 2,
   "metadata": {
    "ExecuteTime": {
     "end_time": "2019-07-03T12:59:04.138186Z",
     "start_time": "2019-07-03T12:59:03.455756Z"
    }
   },
   "outputs": [],
   "source": [
    "import argparse\n",
    "from enum import Enum\n",
    "import io\n",
    "from google.cloud import vision\n",
    "from google.cloud.vision import types\n",
    "from PIL import Image, ImageDraw"
   ]
  },
  {
   "cell_type": "code",
   "execution_count": 3,
   "metadata": {
    "ExecuteTime": {
     "end_time": "2019-07-03T12:59:10.767565Z",
     "start_time": "2019-07-03T12:59:10.759676Z"
    }
   },
   "outputs": [],
   "source": [
    "import io\n",
    "import os\n",
    "\n",
    "os.environ[\"GOOGLE_APPLICATION_CREDENTIALS\"]=\"/Users/amrit/medicine/google_cloud_key.json\"\n",
    "\n",
    "# Imports the Google Cloud client library\n",
    "from google.cloud import vision\n",
    "from google.cloud.vision import types\n",
    "\n",
    "# # Instantiates a client\n",
    "# client = vision.ImageAnnotatorClient()\n",
    "\n",
    "# # The name of the image file to annotate\n",
    "# file_name = os.path.join(\n",
    "#     os.path.dirname(\"__file__\"),\n",
    "#     '/Users/chamikamac/Downloads/DATA/png/IM_0001.png')\n",
    "\n",
    "# # Loads the image into memory\n",
    "# with io.open(file_name, 'rb') as image_file:\n",
    "#     content = image_file.read()\n",
    "\n",
    "# image = types.Image(content=content)\n",
    "\n",
    "# # Performs label detection on the image file\n",
    "# response = client.label_detection(image=image)\n",
    "# labels = response.label_annotations\n",
    "\n",
    "# print('Labels:')\n",
    "# for label in labels:\n",
    "#     print(label.description)"
   ]
  },
  {
   "cell_type": "code",
   "execution_count": 4,
   "metadata": {
    "ExecuteTime": {
     "end_time": "2019-07-03T12:59:21.633927Z",
     "start_time": "2019-07-03T12:59:21.626703Z"
    }
   },
   "outputs": [],
   "source": [
    "def detect_text(path):\n",
    "    \"\"\"Detects text in the file.\"\"\"\n",
    "    from google.cloud import vision\n",
    "    client = vision.ImageAnnotatorClient()\n",
    "\n",
    "    with io.open(path, 'rb') as image_file:\n",
    "        content = image_file.read()\n",
    "\n",
    "    image = vision.types.Image(content=content)\n",
    "\n",
    "    response = client.text_detection(image=image)\n",
    "    texts = response.text_annotations\n",
    "    ##print('Texts:')\n",
    "\n",
    "    for text in texts:\n",
    "        ##print('\\n\"{}\"'.format(text.description))\n",
    "\n",
    "        vertices = (['({},{})'.format(vertex.x, vertex.y)\n",
    "                    for vertex in text.bounding_poly.vertices])\n",
    "\n",
    "        ##print('bounds: {}'.format(','.join(vertices)))\n",
    "    return texts"
   ]
  },
  {
   "cell_type": "code",
   "execution_count": 12,
   "metadata": {
    "ExecuteTime": {
     "end_time": "2019-07-03T13:04:47.307280Z",
     "start_time": "2019-07-03T13:04:44.873336Z"
    }
   },
   "outputs": [
    {
     "name": "stdout",
     "output_type": "stream",
     "text": [
      "[locale: \"en\"\n",
      "description: \"NABD\\nTISO.1 MI 1.1\\nC6-2\\n47HZ\\n-RS\\nLT.LOBE\\nDILATED IHDS\\nLiver\\nX3\\n10.8 cm\\nDist\\n10cm\\n\"\n",
      "bounding_poly {\n",
      "  vertices {\n",
      "    x: 1\n",
      "    y: 26\n",
      "  }\n",
      "  vertices {\n",
      "    x: 1007\n",
      "    y: 26\n",
      "  }\n",
      "  vertices {\n",
      "    x: 1007\n",
      "    y: 730\n",
      "  }\n",
      "  vertices {\n",
      "    x: 1\n",
      "    y: 730\n",
      "  }\n",
      "}\n",
      ", description: \"NABD\"\n",
      "bounding_poly {\n",
      "  vertices {\n",
      "    x: 16\n",
      "    y: 26\n",
      "  }\n",
      "  vertices {\n",
      "    x: 80\n",
      "    y: 26\n",
      "  }\n",
      "  vertices {\n",
      "    x: 80\n",
      "    y: 42\n",
      "  }\n",
      "  vertices {\n",
      "    x: 16\n",
      "    y: 42\n",
      "  }\n",
      "}\n",
      ", description: \"TISO.1\"\n",
      "bounding_poly {\n",
      "  vertices {\n",
      "    x: 828\n",
      "    y: 26\n",
      "  }\n",
      "  vertices {\n",
      "    x: 893\n",
      "    y: 26\n",
      "  }\n",
      "  vertices {\n",
      "    x: 893\n",
      "    y: 42\n",
      "  }\n",
      "  vertices {\n",
      "    x: 828\n",
      "    y: 42\n",
      "  }\n",
      "}\n",
      ", description: \"MI\"\n",
      "bounding_poly {\n",
      "  vertices {\n",
      "    x: 918\n",
      "    y: 26\n",
      "  }\n",
      "  vertices {\n",
      "    x: 941\n",
      "    y: 26\n",
      "  }\n",
      "  vertices {\n",
      "    x: 941\n",
      "    y: 42\n",
      "  }\n",
      "  vertices {\n",
      "    x: 918\n",
      "    y: 42\n",
      "  }\n",
      "}\n",
      ", description: \"1.1\"\n",
      "bounding_poly {\n",
      "  vertices {\n",
      "    x: 953\n",
      "    y: 26\n",
      "  }\n",
      "  vertices {\n",
      "    x: 979\n",
      "    y: 26\n",
      "  }\n",
      "  vertices {\n",
      "    x: 979\n",
      "    y: 42\n",
      "  }\n",
      "  vertices {\n",
      "    x: 953\n",
      "    y: 42\n",
      "  }\n",
      "}\n",
      ", description: \"C6-2\"\n",
      "bounding_poly {\n",
      "  vertices {\n",
      "    x: 15\n",
      "    y: 54\n",
      "  }\n",
      "  vertices {\n",
      "    x: 63\n",
      "    y: 54\n",
      "  }\n",
      "  vertices {\n",
      "    x: 63\n",
      "    y: 70\n",
      "  }\n",
      "  vertices {\n",
      "    x: 15\n",
      "    y: 70\n",
      "  }\n",
      "}\n",
      ", description: \"47HZ\"\n",
      "bounding_poly {\n",
      "  vertices {\n",
      "    x: 14\n",
      "    y: 77\n",
      "  }\n",
      "  vertices {\n",
      "    x: 67\n",
      "    y: 78\n",
      "  }\n",
      "  vertices {\n",
      "    x: 67\n",
      "    y: 95\n",
      "  }\n",
      "  vertices {\n",
      "    x: 14\n",
      "    y: 94\n",
      "  }\n",
      "}\n",
      ", description: \"-RS\"\n",
      "bounding_poly {\n",
      "  vertices {\n",
      "    x: 1\n",
      "    y: 100\n",
      "  }\n",
      "  vertices {\n",
      "    x: 39\n",
      "    y: 100\n",
      "  }\n",
      "  vertices {\n",
      "    x: 39\n",
      "    y: 114\n",
      "  }\n",
      "  vertices {\n",
      "    x: 1\n",
      "    y: 114\n",
      "  }\n",
      "}\n",
      ", description: \"LT.LOBE\"\n",
      "bounding_poly {\n",
      "  vertices {\n",
      "    x: 741\n",
      "    y: 260\n",
      "  }\n",
      "  vertices {\n",
      "    x: 849\n",
      "    y: 260\n",
      "  }\n",
      "  vertices {\n",
      "    x: 849\n",
      "    y: 279\n",
      "  }\n",
      "  vertices {\n",
      "    x: 741\n",
      "    y: 279\n",
      "  }\n",
      "}\n",
      ", description: \"DILATED\"\n",
      "bounding_poly {\n",
      "  vertices {\n",
      "    x: 805\n",
      "    y: 320\n",
      "  }\n",
      "  vertices {\n",
      "    x: 913\n",
      "    y: 320\n",
      "  }\n",
      "  vertices {\n",
      "    x: 913\n",
      "    y: 344\n",
      "  }\n",
      "  vertices {\n",
      "    x: 805\n",
      "    y: 344\n",
      "  }\n",
      "}\n",
      ", description: \"IHDS\"\n",
      "bounding_poly {\n",
      "  vertices {\n",
      "    x: 934\n",
      "    y: 322\n",
      "  }\n",
      "  vertices {\n",
      "    x: 993\n",
      "    y: 322\n",
      "  }\n",
      "  vertices {\n",
      "    x: 993\n",
      "    y: 341\n",
      "  }\n",
      "  vertices {\n",
      "    x: 934\n",
      "    y: 341\n",
      "  }\n",
      "}\n",
      ", description: \"Liver\"\n",
      "bounding_poly {\n",
      "  vertices {\n",
      "    x: 213\n",
      "    y: 353\n",
      "  }\n",
      "  vertices {\n",
      "    x: 289\n",
      "    y: 353\n",
      "  }\n",
      "  vertices {\n",
      "    x: 289\n",
      "    y: 372\n",
      "  }\n",
      "  vertices {\n",
      "    x: 213\n",
      "    y: 372\n",
      "  }\n",
      "}\n",
      ", description: \"X3\"\n",
      "bounding_poly {\n",
      "  vertices {\n",
      "    x: 3\n",
      "    y: 439\n",
      "  }\n",
      "  vertices {\n",
      "    x: 30\n",
      "    y: 434\n",
      "  }\n",
      "  vertices {\n",
      "    x: 33\n",
      "    y: 452\n",
      "  }\n",
      "  vertices {\n",
      "    x: 6\n",
      "    y: 457\n",
      "  }\n",
      "}\n",
      ", description: \"10.8\"\n",
      "bounding_poly {\n",
      "  vertices {\n",
      "    x: 107\n",
      "    y: 694\n",
      "  }\n",
      "  vertices {\n",
      "    x: 148\n",
      "    y: 695\n",
      "  }\n",
      "  vertices {\n",
      "    x: 148\n",
      "    y: 712\n",
      "  }\n",
      "  vertices {\n",
      "    x: 107\n",
      "    y: 711\n",
      "  }\n",
      "}\n",
      ", description: \"cm\"\n",
      "bounding_poly {\n",
      "  vertices {\n",
      "    x: 157\n",
      "    y: 700\n",
      "  }\n",
      "  vertices {\n",
      "    x: 186\n",
      "    y: 701\n",
      "  }\n",
      "  vertices {\n",
      "    x: 186\n",
      "    y: 712\n",
      "  }\n",
      "  vertices {\n",
      "    x: 157\n",
      "    y: 711\n",
      "  }\n",
      "}\n",
      ", description: \"Dist\"\n",
      "bounding_poly {\n",
      "  vertices {\n",
      "    x: 37\n",
      "    y: 695\n",
      "  }\n",
      "  vertices {\n",
      "    x: 78\n",
      "    y: 695\n",
      "  }\n",
      "  vertices {\n",
      "    x: 78\n",
      "    y: 711\n",
      "  }\n",
      "  vertices {\n",
      "    x: 37\n",
      "    y: 711\n",
      "  }\n",
      "}\n",
      ", description: \"10cm\"\n",
      "bounding_poly {\n",
      "  vertices {\n",
      "    x: 952\n",
      "    y: 711\n",
      "  }\n",
      "  vertices {\n",
      "    x: 1007\n",
      "    y: 710\n",
      "  }\n",
      "  vertices {\n",
      "    x: 1007\n",
      "    y: 729\n",
      "  }\n",
      "  vertices {\n",
      "    x: 952\n",
      "    y: 730\n",
      "  }\n",
      "}\n",
      "]\n"
     ]
    }
   ],
   "source": [
    "response = detect_text('/Users/amrit/medicine/png/IM_0001.png')\n",
    "print(response)"
   ]
  },
  {
   "cell_type": "code",
   "execution_count": 13,
   "metadata": {
    "ExecuteTime": {
     "end_time": "2019-07-03T13:09:19.878425Z",
     "start_time": "2019-07-03T13:09:19.872207Z"
    }
   },
   "outputs": [],
   "source": [
    "#print(response[0].description)\n",
    "response_text = response[0].description\n",
    "my_formatted_text = \"\"\n",
    "for line in response_text.split(\"\\n\"):\n",
    "    my_formatted_text += \"    \" + line + \"\\n\""
   ]
  },
  {
   "cell_type": "code",
   "execution_count": 14,
   "metadata": {
    "ExecuteTime": {
     "end_time": "2019-07-03T13:09:22.490614Z",
     "start_time": "2019-07-03T13:09:22.482118Z"
    }
   },
   "outputs": [
    {
     "data": {
      "text/plain": [
       "'    NABD,    TISO.1 MI 1.1,    C6-2,    47HZ,    -RS,    LT.LOBE,    DILATED IHDS,    Liver,    X3,    10.8 cm,    Dist,    10cm,    ,'"
      ]
     },
     "execution_count": 14,
     "metadata": {},
     "output_type": "execute_result"
    }
   ],
   "source": [
    "#my_formatted_text\n",
    "my_formatted_text.replace('\\n', ',')"
   ]
  },
  {
   "cell_type": "code",
   "execution_count": 15,
   "metadata": {
    "ExecuteTime": {
     "end_time": "2019-07-03T13:09:51.498983Z",
     "start_time": "2019-07-03T13:09:48.549847Z"
    }
   },
   "outputs": [],
   "source": [
    "response = detect_text('/Users/amrit/medicine/png/IM_0001.png')\n",
    "response_text = response[0].description\n",
    "my_formatted_text = \"\"\n",
    "for line in response_text.split(\"\\n\"):\n",
    "    my_formatted_text += \"    \" + line + \"\\n\""
   ]
  },
  {
   "cell_type": "code",
   "execution_count": 16,
   "metadata": {
    "ExecuteTime": {
     "end_time": "2019-07-03T13:09:54.426930Z",
     "start_time": "2019-07-03T13:09:54.420430Z"
    }
   },
   "outputs": [
    {
     "data": {
      "text/plain": [
       "'    NABD,    TISO.1 MI 1.1,    C6-2,    47HZ,    -RS,    LT.LOBE,    DILATED IHDS,    Liver,    X3,    10.8 cm,    Dist,    10cm,    ,'"
      ]
     },
     "execution_count": 16,
     "metadata": {},
     "output_type": "execute_result"
    }
   ],
   "source": [
    "my_formatted_text.replace('\\n', ',')"
   ]
  },
  {
   "cell_type": "code",
   "execution_count": 8,
   "metadata": {
    "ExecuteTime": {
     "end_time": "2019-07-03T13:02:03.630709Z",
     "start_time": "2019-07-03T13:02:03.378429Z"
    }
   },
   "outputs": [],
   "source": [
    "#convert dicom to png\n",
    "import png\n",
    "from PIL import Image\n",
    "import os\n",
    "import pydicom\n",
    "import numpy as np\n",
    "from matplotlib import pyplot, cm\n",
    "\n",
    "def dicom2png(Source_path, dst_path, image_name):\n",
    "    ds = pydicom.dcmread(Source_path)\n",
    "    shape = ds.pixel_array.shape\n",
    "    # Convert to float to avoid overflow or underflow losses.\n",
    "    image_2d = ds.pixel_array.astype(float)\n",
    "    # Rescaling grey scale between 0-255\n",
    "    image_2d_scaled = (np.maximum(image_2d,0) / image_2d.max()) * 255.0\n",
    "    # Convert to uint\n",
    "    image_2d_scaled = np.uint8(image_2d_scaled)\n",
    "    # Write the PNG file\n",
    "    new_im = Image.fromarray(image_2d_scaled)\n",
    "    new_im.save(dst_path + image_name + '.png')\n",
    "    "
   ]
  },
  {
   "cell_type": "code",
   "execution_count": 11,
   "metadata": {
    "ExecuteTime": {
     "end_time": "2019-07-03T13:04:34.102674Z",
     "start_time": "2019-07-03T13:04:33.910432Z"
    }
   },
   "outputs": [],
   "source": [
    "dicom2png('/Users/amrit/medicine/DICOM2/IM_0001','/Users/amrit/medicine/png/','IM_0001')"
   ]
  },
  {
   "cell_type": "code",
   "execution_count": null,
   "metadata": {},
   "outputs": [],
   "source": []
  }
 ],
 "metadata": {
  "kernelspec": {
   "display_name": "Python 3",
   "language": "python",
   "name": "python3"
  },
  "language_info": {
   "codemirror_mode": {
    "name": "ipython",
    "version": 3
   },
   "file_extension": ".py",
   "mimetype": "text/x-python",
   "name": "python",
   "nbconvert_exporter": "python",
   "pygments_lexer": "ipython3",
   "version": "3.7.3"
  },
  "varInspector": {
   "cols": {
    "lenName": 16,
    "lenType": 16,
    "lenVar": 40
   },
   "kernels_config": {
    "python": {
     "delete_cmd_postfix": "",
     "delete_cmd_prefix": "del ",
     "library": "var_list.py",
     "varRefreshCmd": "print(var_dic_list())"
    },
    "r": {
     "delete_cmd_postfix": ") ",
     "delete_cmd_prefix": "rm(",
     "library": "var_list.r",
     "varRefreshCmd": "cat(var_dic_list()) "
    }
   },
   "types_to_exclude": [
    "module",
    "function",
    "builtin_function_or_method",
    "instance",
    "_Feature"
   ],
   "window_display": false
  }
 },
 "nbformat": 4,
 "nbformat_minor": 2
}
