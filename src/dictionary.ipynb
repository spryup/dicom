{
 "cells": [
  {
   "cell_type": "code",
   "execution_count": 2,
   "metadata": {
    "ExecuteTime": {
     "end_time": "2019-07-16T03:05:01.071433Z",
     "start_time": "2019-07-16T03:05:01.063995Z"
    }
   },
   "outputs": [],
   "source": [
    "dic={\"hepatobiliary system\": [\"liver\",\"gall bladder\",\"c.b.d\",\"pancreas\",\"spleen\"],\"pelvis\":[\"uterus\",\"adnexae\"]\n",
    "     ,\"k.u.b. (colour doppler)\":[\"kidneys\",\"u. bladder\"], \"k.u.b & r.i.f.region\": [\"kidneys\",\"u. bladder\",\"r.i.f.region\"]\n",
    "     , \"k.u.b. & pelvis\": [\"kidneys\",\"u. bladder\",\"uterus\",\"adnexae\"], \"kub and prostate\": [\"kidneys\",\"u.bladder\",\"prostate\"]\n",
    "     ,\"k.u.b.\": [\"kidneys\",\"u. bladder\",\"spleen\",\"prostate\"],\"lower abdomen\":[\"u. bladder\",\"uterus\",\"adnexae\"]\n",
    "     ,\"whole abdomen\":[\"liver\",\"gall bladder\",\"c.b.d\",\"pancreas\",\"spleen\",\"kidneys\",\"u.bladder\",\"r.i.f. region\",\"uterus\",\"adnexae\"]\n",
    "     ,\"t.v.s\":[\"uterus\",\"adnexae\"], \"upper abdomen\":[\"liver\",\"gall bladder\",\"c.b.d\",\"pancreas\",\"spleen\",\"kidneys\"]\n",
    "     ,\"whole abdomen (gravid)\":{\"non-tab\":[\"liver\",\"gall bladder\",\"c.b.d\",\"pancreas\",\"spleen\",\"kidneys\",\"u.bladder\",\"placenta\",\"liquor\",\"e.f.b.w.\", \"mean gestational age\",\"expected date of confinement\"], \n",
    "                                \"tab\":{\"foetal status\":[\"number\",\"lie\",\"presentation\",\"movements\",\"foetal heart rate\",\"spine & ventricles\"]\n",
    "                                          ,\"gestational calculations\":[\"biparietal diameter\",\"head circumference\", \"abd. circumference\",\"femur length\"]}\n",
    "                                      }\n",
    "    }"
   ]
  },
  {
   "cell_type": "code",
   "execution_count": 3,
   "metadata": {
    "ExecuteTime": {
     "end_time": "2019-07-16T03:05:03.684006Z",
     "start_time": "2019-07-16T03:05:03.657436Z"
    }
   },
   "outputs": [
    {
     "data": {
      "text/plain": [
       "{'hepatobiliary system': ['liver',\n",
       "  'gall bladder',\n",
       "  'c.b.d',\n",
       "  'pancreas',\n",
       "  'spleen'],\n",
       " 'pelvis': ['uterus', 'adnexae'],\n",
       " 'k.u.b. (colour doppler)': ['kidneys', 'u. bladder'],\n",
       " 'k.u.b & r.i.f.region': ['kidneys', 'u. bladder', 'r.i.f.region'],\n",
       " 'k.u.b. & pelvis': ['kidneys', 'u. bladder', 'uterus', 'adnexae'],\n",
       " 'kub and prostate': ['kidneys', 'u.bladder', 'prostate'],\n",
       " 'k.u.b.': ['kidneys', 'u. bladder', 'spleen', 'prostate'],\n",
       " 'lower abdomen': ['u. bladder', 'uterus', 'adnexae'],\n",
       " 'whole abdomen': ['liver',\n",
       "  'gall bladder',\n",
       "  'c.b.d',\n",
       "  'pancreas',\n",
       "  'spleen',\n",
       "  'kidneys',\n",
       "  'u.bladder',\n",
       "  'r.i.f. region',\n",
       "  'uterus',\n",
       "  'adnexae'],\n",
       " 't.v.s': ['uterus', 'adnexae'],\n",
       " 'upper abdomen': ['liver',\n",
       "  'gall bladder',\n",
       "  'c.b.d',\n",
       "  'pancreas',\n",
       "  'spleen',\n",
       "  'kidneys'],\n",
       " 'whole abdomen (gravid)': {'non-tab': ['liver',\n",
       "   'gall bladder',\n",
       "   'c.b.d',\n",
       "   'pancreas',\n",
       "   'spleen',\n",
       "   'kidneys',\n",
       "   'u.bladder',\n",
       "   'placenta',\n",
       "   'liquor',\n",
       "   'e.f.b.w.',\n",
       "   'mean gestational age',\n",
       "   'expected date of confinement'],\n",
       "  'tab': {'foetal status': ['number',\n",
       "    'lie',\n",
       "    'presentation',\n",
       "    'movements',\n",
       "    'foetal heart rate',\n",
       "    'spine & ventricles'],\n",
       "   'gestational calculations': ['biparietal diameter',\n",
       "    'head circumference',\n",
       "    'abd. circumference',\n",
       "    'femur length']}}}"
      ]
     },
     "execution_count": 3,
     "metadata": {},
     "output_type": "execute_result"
    }
   ],
   "source": [
    "dic"
   ]
  },
  {
   "cell_type": "code",
   "execution_count": null,
   "metadata": {},
   "outputs": [],
   "source": []
  }
 ],
 "metadata": {
  "kernelspec": {
   "display_name": "Python 3",
   "language": "python",
   "name": "python3"
  },
  "language_info": {
   "codemirror_mode": {
    "name": "ipython",
    "version": 3
   },
   "file_extension": ".py",
   "mimetype": "text/x-python",
   "name": "python",
   "nbconvert_exporter": "python",
   "pygments_lexer": "ipython3",
   "version": "3.7.3"
  },
  "varInspector": {
   "cols": {
    "lenName": 16,
    "lenType": 16,
    "lenVar": 40
   },
   "kernels_config": {
    "python": {
     "delete_cmd_postfix": "",
     "delete_cmd_prefix": "del ",
     "library": "var_list.py",
     "varRefreshCmd": "print(var_dic_list())"
    },
    "r": {
     "delete_cmd_postfix": ") ",
     "delete_cmd_prefix": "rm(",
     "library": "var_list.r",
     "varRefreshCmd": "cat(var_dic_list()) "
    }
   },
   "types_to_exclude": [
    "module",
    "function",
    "builtin_function_or_method",
    "instance",
    "_Feature"
   ],
   "window_display": false
  }
 },
 "nbformat": 4,
 "nbformat_minor": 2
}
